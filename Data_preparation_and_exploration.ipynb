{
  "nbformat": 4,
  "nbformat_minor": 0,
  "metadata": {
    "colab": {
      "name": "Data preparation and exploration.ipynb",
      "provenance": []
    },
    "kernelspec": {
      "name": "python3",
      "display_name": "Python 3"
    }
  },
  "cells": [
    {
      "cell_type": "markdown",
      "metadata": {
        "id": "4Sw-jrKbjU7A"
      },
      "source": [
        "## Importing data"
      ]
    },
    {
      "cell_type": "code",
      "metadata": {
        "id": "Vt85Z7bPiw-N"
      },
      "source": [
        "import pandas as pd\n",
        "features = pd.read_csv(\"/content/drive/My Drive/Deep learning/features.csv\")\n",
        "dam_prices = pd.read_csv(\"/content/drive/My Drive/Deep learning/DAM_prices.csv\")\n",
        "rt_prices = pd.read_csv(\"/content/drive/My Drive/Deep learning/RT_prices.csv\")"
      ],
      "execution_count": null,
      "outputs": []
    },
    {
      "cell_type": "markdown",
      "metadata": {
        "id": "UDaRZzfZjgfV"
      },
      "source": [
        "## Determining if there are not missing dates"
      ]
    },
    {
      "cell_type": "code",
      "metadata": {
        "id": "nT6PTeE6jzMh",
        "colab": {
          "base_uri": "https://localhost:8080/",
          "height": 33
        },
        "outputId": "808d1c4b-5559-4d17-f4ea-03b452dc94f2"
      },
      "source": [
        "print(len(features),len(dam_prices),len(rt_prices))"
      ],
      "execution_count": null,
      "outputs": [
        {
          "output_type": "stream",
          "text": [
            "16871 16871 16871\n"
          ],
          "name": "stdout"
        }
      ]
    },
    {
      "cell_type": "code",
      "metadata": {
        "id": "w_HVWpPAkq40",
        "colab": {
          "base_uri": "https://localhost:8080/",
          "height": 100
        },
        "outputId": "51df606d-11b0-4429-f30a-1b75a85b9df3"
      },
      "source": [
        "features.columns"
      ],
      "execution_count": null,
      "outputs": [
        {
          "output_type": "execute_result",
          "data": {
            "text/plain": [
              "Index(['dates', 'Gas.price', 'MidAtl_Pool_pr', 'western_Pool_prev',\n",
              "       'Total_Pool_prev', 'Percent.diff.MidAtl_Pool_pr',\n",
              "       'Percent.diff.western_Pool_prev', 'Percent.diff.Total_Pool_prev',\n",
              "       'PJM.POOL.J2', 'MISO_POOL_J2'],\n",
              "      dtype='object')"
            ]
          },
          "metadata": {
            "tags": []
          },
          "execution_count": 3
        }
      ]
    },
    {
      "cell_type": "code",
      "metadata": {
        "id": "VxpU_rBXlhwF",
        "colab": {
          "base_uri": "https://localhost:8080/",
          "height": 452
        },
        "outputId": "4eb0e708-93e2-417a-c50b-40107d52f953"
      },
      "source": [
        "dam_prices.columns"
      ],
      "execution_count": null,
      "outputs": [
        {
          "output_type": "execute_result",
          "data": {
            "text/plain": [
              "Index(['dates', 'AECO_RESID_AGG..DALMP..Average',\n",
              "       'AEP.GEN.HUB..DALMP..Average', 'AEP.DAYTON.HUB..DALMP..Average',\n",
              "       'AEPAPCO_RESID_AGG..DALMP..Average', 'AEPIM_RESID_AGG..DALMP..Average',\n",
              "       'AEPKY_RESID_AGG..DALMP..Average', 'AEPOHIO_RESID_AGG..DALMP..Average',\n",
              "       'APS_RESID_AGG..DALMP..Average', 'ATSI.GEN.HUB..DALMP..Average',\n",
              "       'BGE_RESID_AGG..DALMP..Average', 'CHICAGO.GEN.HUB..DALMP..Average',\n",
              "       'CHICAGO.HUB..DALMP..Average', 'COMED_RESID_AGG..DALMP..Average',\n",
              "       'DAY_RESID_AGG..DALMP..Average', 'DEOK_RESID_AGG..DALMP..Average',\n",
              "       'DOMINION.HUB..DALMP..Average', 'DOM_RESID_AGG..DALMP..Average',\n",
              "       'DPLEASTON_RESID_AGG..DALMP..Average', 'DPL_RESID_AGG..DALMP..Average',\n",
              "       'DUQ_RESID_AGG..DALMP..Average', 'EASTERN.HUB..DALMP..Average',\n",
              "       'EKPC_RESID_AGG..DALMP..Average', 'FEOHIO_RESID_AGG..DALMP..Average',\n",
              "       'HUDSONTP..DALMP..Average', 'IMO..DALMP..Average',\n",
              "       'JCPL_RESID_AGG..DALMP..Average', 'LINDENVFT..DALMP..Average',\n",
              "       'METED_RESID_AGG..DALMP..Average', 'MISO..DALMP..Average',\n",
              "       'N.ILLINOIS.HUB..DALMP..Average', 'NEPTUNE..DALMP..Average',\n",
              "       'NEW.JERSEY.HUB..DALMP..Average', 'NIPSCO..DALMP..Average',\n",
              "       'NORTHWEST..DALMP..Average', 'NYIS..DALMP..Average',\n",
              "       'OHIO.HUB..DALMP..Average', 'PECO_RESID_AGG..DALMP..Average',\n",
              "       'PENELEC_RESID_AGG..DALMP..Average',\n",
              "       'PENNPOWER_RESID_AGG..DALMP..Average', 'PPL_RESID_AGG..DALMP..Average',\n",
              "       'PSEG_RESID_AGG..DALMP..Average', 'RECO_RESID_AGG..DALMP..Average',\n",
              "       'SMECO_RESID_AGG..DALMP..Average', 'SOUTHEXP..DALMP..Average',\n",
              "       'SOUTHIMP..DALMP..Average', 'UGI_RESID_AGG..DALMP..Average',\n",
              "       'VINELAND_RESID_AGG..DALMP..Average', 'WESTERN.HUB..DALMP..Average'],\n",
              "      dtype='object')"
            ]
          },
          "metadata": {
            "tags": []
          },
          "execution_count": 4
        }
      ]
    },
    {
      "cell_type": "code",
      "metadata": {
        "id": "zoXH81Lvlkwl",
        "colab": {
          "base_uri": "https://localhost:8080/",
          "height": 452
        },
        "outputId": "43c8e874-52ef-42a8-8f94-3af08977c5ed"
      },
      "source": [
        "rt_prices.columns"
      ],
      "execution_count": null,
      "outputs": [
        {
          "output_type": "execute_result",
          "data": {
            "text/plain": [
              "Index(['dates', 'AECO_RESID_AGG..RTLMP..Average',\n",
              "       'AEP.GEN.HUB..RTLMP..Average', 'AEP.DAYTON.HUB..RTLMP..Average',\n",
              "       'AEPAPCO_RESID_AGG..RTLMP..Average', 'AEPIM_RESID_AGG..RTLMP..Average',\n",
              "       'AEPKY_RESID_AGG..RTLMP..Average', 'AEPOHIO_RESID_AGG..RTLMP..Average',\n",
              "       'APS_RESID_AGG..RTLMP..Average', 'ATSI.GEN.HUB..RTLMP..Average',\n",
              "       'BGE_RESID_AGG..RTLMP..Average', 'CHICAGO.GEN.HUB..RTLMP..Average',\n",
              "       'CHICAGO.HUB..RTLMP..Average', 'COMED_RESID_AGG..RTLMP..Average',\n",
              "       'DAY_RESID_AGG..RTLMP..Average', 'DEOK_RESID_AGG..RTLMP..Average',\n",
              "       'DOMINION.HUB..RTLMP..Average', 'DOM_RESID_AGG..RTLMP..Average',\n",
              "       'DPLEASTON_RESID_AGG..RTLMP..Average', 'DPL_RESID_AGG..RTLMP..Average',\n",
              "       'DUQ_RESID_AGG..RTLMP..Average', 'EASTERN.HUB..RTLMP..Average',\n",
              "       'EKPC_RESID_AGG..RTLMP..Average', 'FEOHIO_RESID_AGG..RTLMP..Average',\n",
              "       'HUDSONTP..RTLMP..Average', 'IMO..RTLMP..Average',\n",
              "       'JCPL_RESID_AGG..RTLMP..Average', 'LINDENVFT..RTLMP..Average',\n",
              "       'METED_RESID_AGG..RTLMP..Average', 'MISO..RTLMP..Average',\n",
              "       'N.ILLINOIS.HUB..RTLMP..Average', 'NEPTUNE..RTLMP..Average',\n",
              "       'NEW.JERSEY.HUB..RTLMP..Average', 'NIPSCO..RTLMP..Average',\n",
              "       'NORTHWEST..RTLMP..Average', 'NYIS..RTLMP..Average',\n",
              "       'OHIO.HUB..RTLMP..Average', 'PECO_RESID_AGG..RTLMP..Average',\n",
              "       'PENELEC_RESID_AGG..RTLMP..Average',\n",
              "       'PENNPOWER_RESID_AGG..RTLMP..Average', 'PPL_RESID_AGG..RTLMP..Average',\n",
              "       'PSEG_RESID_AGG..RTLMP..Average', 'RECO_RESID_AGG..RTLMP..Average',\n",
              "       'SMECO_RESID_AGG..RTLMP..Average', 'SOUTHEXP..RTLMP..Average',\n",
              "       'SOUTHIMP..RTLMP..Average', 'UGI_RESID_AGG..RTLMP..Average',\n",
              "       'VINELAND_RESID_AGG..RTLMP..Average', 'WESTERN.HUB..RTLMP..Average'],\n",
              "      dtype='object')"
            ]
          },
          "metadata": {
            "tags": []
          },
          "execution_count": 5
        }
      ]
    },
    {
      "cell_type": "markdown",
      "metadata": {
        "id": "5c6mr2V9mNCL"
      },
      "source": [
        "Verifiying that the datasets have all the same dates"
      ]
    },
    {
      "cell_type": "code",
      "metadata": {
        "id": "TXsySFLflwly",
        "colab": {
          "base_uri": "https://localhost:8080/",
          "height": 569
        },
        "outputId": "4e404fa2-b4ae-4290-9f72-f15516058e41"
      },
      "source": [
        "print(features[\"dates\"].head(),features[\"dates\"].tail())\n",
        "print(dam_prices[\"dates\"].head(),dam_prices[\"dates\"].tail())\n",
        "print(rt_prices[\"dates\"].head(),rt_prices[\"dates\"].tail())"
      ],
      "execution_count": null,
      "outputs": [
        {
          "output_type": "stream",
          "text": [
            "0    1/28/2018 1:00\n",
            "1    1/28/2018 2:00\n",
            "2    1/28/2018 3:00\n",
            "3    1/28/2018 4:00\n",
            "4    1/28/2018 5:00\n",
            "Name: dates, dtype: object 16866    12/31/2019 20:00\n",
            "16867    12/31/2019 21:00\n",
            "16868    12/31/2019 22:00\n",
            "16869    12/31/2019 23:00\n",
            "16870       1/1/2020 0:00\n",
            "Name: dates, dtype: object\n",
            "0    1/28/2018 1:00\n",
            "1    1/28/2018 2:00\n",
            "2    1/28/2018 3:00\n",
            "3    1/28/2018 4:00\n",
            "4    1/28/2018 5:00\n",
            "Name: dates, dtype: object 16866    12/31/2019 20:00\n",
            "16867    12/31/2019 21:00\n",
            "16868    12/31/2019 22:00\n",
            "16869    12/31/2019 23:00\n",
            "16870       1/1/2020 0:00\n",
            "Name: dates, dtype: object\n",
            "0    1/28/2018 1:00\n",
            "1    1/28/2018 2:00\n",
            "2    1/28/2018 3:00\n",
            "3    1/28/2018 4:00\n",
            "4    1/28/2018 5:00\n",
            "Name: dates, dtype: object 16866    12/31/2019 20:00\n",
            "16867    12/31/2019 21:00\n",
            "16868    12/31/2019 22:00\n",
            "16869    12/31/2019 23:00\n",
            "16870       1/1/2020 0:00\n",
            "Name: dates, dtype: object\n"
          ],
          "name": "stdout"
        }
      ]
    },
    {
      "cell_type": "markdown",
      "metadata": {
        "id": "t2-9b3J4mp97"
      },
      "source": [
        "Verifying missing dates"
      ]
    },
    {
      "cell_type": "code",
      "metadata": {
        "id": "k2gMy9Oim3D1"
      },
      "source": [
        "features[\"dates\"] = pd.to_datetime(features[\"dates\"], infer_datetime_format = True)"
      ],
      "execution_count": null,
      "outputs": []
    },
    {
      "cell_type": "code",
      "metadata": {
        "id": "t60QCadLpU1_"
      },
      "source": [
        "dam_prices[\"dates\"] = pd.to_datetime(dam_prices[\"dates\"], infer_datetime_format = True)\n",
        "rt_prices[\"dates\"] = pd.to_datetime(rt_prices[\"dates\"], infer_datetime_format = True)"
      ],
      "execution_count": null,
      "outputs": []
    },
    {
      "cell_type": "code",
      "metadata": {
        "id": "YuhIty-yn7oY",
        "colab": {
          "base_uri": "https://localhost:8080/",
          "height": 217
        },
        "outputId": "9e9cb2c4-816d-4447-e112-f6b9aaa3242d"
      },
      "source": [
        "rt_prices[\"dates\"]\n"
      ],
      "execution_count": null,
      "outputs": [
        {
          "output_type": "execute_result",
          "data": {
            "text/plain": [
              "0       2018-01-28 01:00:00\n",
              "1       2018-01-28 02:00:00\n",
              "2       2018-01-28 03:00:00\n",
              "3       2018-01-28 04:00:00\n",
              "4       2018-01-28 05:00:00\n",
              "                ...        \n",
              "16866   2019-12-31 20:00:00\n",
              "16867   2019-12-31 21:00:00\n",
              "16868   2019-12-31 22:00:00\n",
              "16869   2019-12-31 23:00:00\n",
              "16870   2020-01-01 00:00:00\n",
              "Name: dates, Length: 16871, dtype: datetime64[ns]"
            ]
          },
          "metadata": {
            "tags": []
          },
          "execution_count": 9
        }
      ]
    },
    {
      "cell_type": "code",
      "metadata": {
        "id": "U6JzySvLmsYb",
        "colab": {
          "base_uri": "https://localhost:8080/",
          "height": 401
        },
        "outputId": "21421826-c383-4308-8e8a-0c043e35b064"
      },
      "source": [
        "pd.date_range(start = '2018-01-28 1:00', end = '2020-02-13 0:00' ).difference(features[\"dates\"])"
      ],
      "execution_count": null,
      "outputs": [
        {
          "output_type": "execute_result",
          "data": {
            "text/plain": [
              "DatetimeIndex(['2020-01-01 01:00:00', '2020-01-02 01:00:00',\n",
              "               '2020-01-03 01:00:00', '2020-01-04 01:00:00',\n",
              "               '2020-01-05 01:00:00', '2020-01-06 01:00:00',\n",
              "               '2020-01-07 01:00:00', '2020-01-08 01:00:00',\n",
              "               '2020-01-09 01:00:00', '2020-01-10 01:00:00',\n",
              "               '2020-01-11 01:00:00', '2020-01-12 01:00:00',\n",
              "               '2020-01-13 01:00:00', '2020-01-14 01:00:00',\n",
              "               '2020-01-15 01:00:00', '2020-01-16 01:00:00',\n",
              "               '2020-01-17 01:00:00', '2020-01-18 01:00:00',\n",
              "               '2020-01-19 01:00:00', '2020-01-20 01:00:00',\n",
              "               '2020-01-21 01:00:00', '2020-01-22 01:00:00',\n",
              "               '2020-01-23 01:00:00', '2020-01-24 01:00:00',\n",
              "               '2020-01-25 01:00:00', '2020-01-26 01:00:00',\n",
              "               '2020-01-27 01:00:00', '2020-01-28 01:00:00',\n",
              "               '2020-01-29 01:00:00', '2020-01-30 01:00:00',\n",
              "               '2020-01-31 01:00:00', '2020-02-01 01:00:00',\n",
              "               '2020-02-02 01:00:00', '2020-02-03 01:00:00',\n",
              "               '2020-02-04 01:00:00', '2020-02-05 01:00:00',\n",
              "               '2020-02-06 01:00:00', '2020-02-07 01:00:00',\n",
              "               '2020-02-08 01:00:00', '2020-02-09 01:00:00',\n",
              "               '2020-02-10 01:00:00', '2020-02-11 01:00:00',\n",
              "               '2020-02-12 01:00:00'],\n",
              "              dtype='datetime64[ns]', freq=None)"
            ]
          },
          "metadata": {
            "tags": []
          },
          "execution_count": 10
        }
      ]
    },
    {
      "cell_type": "code",
      "metadata": {
        "id": "7oV7ju7GpmO0",
        "colab": {
          "base_uri": "https://localhost:8080/",
          "height": 401
        },
        "outputId": "c1e72f7b-85c0-4a4d-ec40-247048d6762a"
      },
      "source": [
        "pd.date_range(start = '2018-01-28 1:00', end = '2020-02-13 0:00' ).difference(dam_prices[\"dates\"])"
      ],
      "execution_count": null,
      "outputs": [
        {
          "output_type": "execute_result",
          "data": {
            "text/plain": [
              "DatetimeIndex(['2020-01-01 01:00:00', '2020-01-02 01:00:00',\n",
              "               '2020-01-03 01:00:00', '2020-01-04 01:00:00',\n",
              "               '2020-01-05 01:00:00', '2020-01-06 01:00:00',\n",
              "               '2020-01-07 01:00:00', '2020-01-08 01:00:00',\n",
              "               '2020-01-09 01:00:00', '2020-01-10 01:00:00',\n",
              "               '2020-01-11 01:00:00', '2020-01-12 01:00:00',\n",
              "               '2020-01-13 01:00:00', '2020-01-14 01:00:00',\n",
              "               '2020-01-15 01:00:00', '2020-01-16 01:00:00',\n",
              "               '2020-01-17 01:00:00', '2020-01-18 01:00:00',\n",
              "               '2020-01-19 01:00:00', '2020-01-20 01:00:00',\n",
              "               '2020-01-21 01:00:00', '2020-01-22 01:00:00',\n",
              "               '2020-01-23 01:00:00', '2020-01-24 01:00:00',\n",
              "               '2020-01-25 01:00:00', '2020-01-26 01:00:00',\n",
              "               '2020-01-27 01:00:00', '2020-01-28 01:00:00',\n",
              "               '2020-01-29 01:00:00', '2020-01-30 01:00:00',\n",
              "               '2020-01-31 01:00:00', '2020-02-01 01:00:00',\n",
              "               '2020-02-02 01:00:00', '2020-02-03 01:00:00',\n",
              "               '2020-02-04 01:00:00', '2020-02-05 01:00:00',\n",
              "               '2020-02-06 01:00:00', '2020-02-07 01:00:00',\n",
              "               '2020-02-08 01:00:00', '2020-02-09 01:00:00',\n",
              "               '2020-02-10 01:00:00', '2020-02-11 01:00:00',\n",
              "               '2020-02-12 01:00:00'],\n",
              "              dtype='datetime64[ns]', freq=None)"
            ]
          },
          "metadata": {
            "tags": []
          },
          "execution_count": 11
        }
      ]
    },
    {
      "cell_type": "code",
      "metadata": {
        "id": "wTeRX48Upp4e",
        "colab": {
          "base_uri": "https://localhost:8080/",
          "height": 401
        },
        "outputId": "04fa669e-af73-4a3a-e90a-4a91041038c7"
      },
      "source": [
        "pd.date_range(start = '2018-01-28 1:00', end = '2020-02-13 0:00').difference(rt_prices[\"dates\"])"
      ],
      "execution_count": null,
      "outputs": [
        {
          "output_type": "execute_result",
          "data": {
            "text/plain": [
              "DatetimeIndex(['2020-01-01 01:00:00', '2020-01-02 01:00:00',\n",
              "               '2020-01-03 01:00:00', '2020-01-04 01:00:00',\n",
              "               '2020-01-05 01:00:00', '2020-01-06 01:00:00',\n",
              "               '2020-01-07 01:00:00', '2020-01-08 01:00:00',\n",
              "               '2020-01-09 01:00:00', '2020-01-10 01:00:00',\n",
              "               '2020-01-11 01:00:00', '2020-01-12 01:00:00',\n",
              "               '2020-01-13 01:00:00', '2020-01-14 01:00:00',\n",
              "               '2020-01-15 01:00:00', '2020-01-16 01:00:00',\n",
              "               '2020-01-17 01:00:00', '2020-01-18 01:00:00',\n",
              "               '2020-01-19 01:00:00', '2020-01-20 01:00:00',\n",
              "               '2020-01-21 01:00:00', '2020-01-22 01:00:00',\n",
              "               '2020-01-23 01:00:00', '2020-01-24 01:00:00',\n",
              "               '2020-01-25 01:00:00', '2020-01-26 01:00:00',\n",
              "               '2020-01-27 01:00:00', '2020-01-28 01:00:00',\n",
              "               '2020-01-29 01:00:00', '2020-01-30 01:00:00',\n",
              "               '2020-01-31 01:00:00', '2020-02-01 01:00:00',\n",
              "               '2020-02-02 01:00:00', '2020-02-03 01:00:00',\n",
              "               '2020-02-04 01:00:00', '2020-02-05 01:00:00',\n",
              "               '2020-02-06 01:00:00', '2020-02-07 01:00:00',\n",
              "               '2020-02-08 01:00:00', '2020-02-09 01:00:00',\n",
              "               '2020-02-10 01:00:00', '2020-02-11 01:00:00',\n",
              "               '2020-02-12 01:00:00'],\n",
              "              dtype='datetime64[ns]', freq=None)"
            ]
          },
          "metadata": {
            "tags": []
          },
          "execution_count": 12
        }
      ]
    },
    {
      "cell_type": "markdown",
      "metadata": {
        "id": "wRs135N_p0Rc"
      },
      "source": [
        "We choose to cut the dataset until December 31st 2019 and imputate the missing data for 2019 by taking the average of the 3 last days for the same hour. We are conscious of the biais this imputation will add to our model."
      ]
    },
    {
      "cell_type": "code",
      "metadata": {
        "id": "mNaSzCPmqTQ-",
        "colab": {
          "base_uri": "https://localhost:8080/",
          "height": 114
        },
        "outputId": "0301760a-98dc-4528-9db2-f2fb1ea2b6fb"
      },
      "source": [
        "features[features[\"dates\"]=='2019-06-21 00:00:00']"
      ],
      "execution_count": null,
      "outputs": [
        {
          "output_type": "execute_result",
          "data": {
            "text/html": [
              "<div>\n",
              "<style scoped>\n",
              "    .dataframe tbody tr th:only-of-type {\n",
              "        vertical-align: middle;\n",
              "    }\n",
              "\n",
              "    .dataframe tbody tr th {\n",
              "        vertical-align: top;\n",
              "    }\n",
              "\n",
              "    .dataframe thead th {\n",
              "        text-align: right;\n",
              "    }\n",
              "</style>\n",
              "<table border=\"1\" class=\"dataframe\">\n",
              "  <thead>\n",
              "    <tr style=\"text-align: right;\">\n",
              "      <th></th>\n",
              "      <th>dates</th>\n",
              "      <th>Gas.price</th>\n",
              "      <th>MidAtl_Pool_pr</th>\n",
              "      <th>western_Pool_prev</th>\n",
              "      <th>Total_Pool_prev</th>\n",
              "      <th>Percent.diff.MidAtl_Pool_pr</th>\n",
              "      <th>Percent.diff.western_Pool_prev</th>\n",
              "      <th>Percent.diff.Total_Pool_prev</th>\n",
              "      <th>PJM.POOL.J2</th>\n",
              "      <th>MISO_POOL_J2</th>\n",
              "    </tr>\n",
              "  </thead>\n",
              "  <tbody>\n",
              "    <tr>\n",
              "      <th>12214</th>\n",
              "      <td>2019-06-21</td>\n",
              "      <td>2.13</td>\n",
              "      <td>29937.0</td>\n",
              "      <td>41707.0</td>\n",
              "      <td>84086.0</td>\n",
              "      <td>-0.080728</td>\n",
              "      <td>-0.07043</td>\n",
              "      <td>-0.076069</td>\n",
              "      <td>1550.47</td>\n",
              "      <td>3381.8</td>\n",
              "    </tr>\n",
              "  </tbody>\n",
              "</table>\n",
              "</div>"
            ],
            "text/plain": [
              "           dates  Gas.price  ...  PJM.POOL.J2  MISO_POOL_J2\n",
              "12214 2019-06-21       2.13  ...      1550.47        3381.8\n",
              "\n",
              "[1 rows x 10 columns]"
            ]
          },
          "metadata": {
            "tags": []
          },
          "execution_count": 13
        }
      ]
    },
    {
      "cell_type": "code",
      "metadata": {
        "id": "TgUh8mLFrU9C",
        "colab": {
          "base_uri": "https://localhost:8080/",
          "height": 1000
        },
        "outputId": "13a5c9f9-61ef-4687-9132-bae48a49d05f"
      },
      "source": [
        "features.iloc[12238:12238+25]"
      ],
      "execution_count": null,
      "outputs": [
        {
          "output_type": "execute_result",
          "data": {
            "text/html": [
              "<div>\n",
              "<style scoped>\n",
              "    .dataframe tbody tr th:only-of-type {\n",
              "        vertical-align: middle;\n",
              "    }\n",
              "\n",
              "    .dataframe tbody tr th {\n",
              "        vertical-align: top;\n",
              "    }\n",
              "\n",
              "    .dataframe thead th {\n",
              "        text-align: right;\n",
              "    }\n",
              "</style>\n",
              "<table border=\"1\" class=\"dataframe\">\n",
              "  <thead>\n",
              "    <tr style=\"text-align: right;\">\n",
              "      <th></th>\n",
              "      <th>dates</th>\n",
              "      <th>Gas.price</th>\n",
              "      <th>MidAtl_Pool_pr</th>\n",
              "      <th>western_Pool_prev</th>\n",
              "      <th>Total_Pool_prev</th>\n",
              "      <th>Percent.diff.MidAtl_Pool_pr</th>\n",
              "      <th>Percent.diff.western_Pool_prev</th>\n",
              "      <th>Percent.diff.Total_Pool_prev</th>\n",
              "      <th>PJM.POOL.J2</th>\n",
              "      <th>MISO_POOL_J2</th>\n",
              "    </tr>\n",
              "  </thead>\n",
              "  <tbody>\n",
              "    <tr>\n",
              "      <th>12238</th>\n",
              "      <td>2019-06-22 00:00:00</td>\n",
              "      <td>2.13</td>\n",
              "      <td>27751.00000</td>\n",
              "      <td>39816.00000</td>\n",
              "      <td>77838.00000</td>\n",
              "      <td>-0.079060</td>\n",
              "      <td>-0.064497</td>\n",
              "      <td>-0.072561</td>\n",
              "      <td>3549.650000</td>\n",
              "      <td>8822.600000</td>\n",
              "    </tr>\n",
              "    <tr>\n",
              "      <th>12239</th>\n",
              "      <td>2019-06-22 01:00:00</td>\n",
              "      <td>2.14</td>\n",
              "      <td>29081.66667</td>\n",
              "      <td>39799.00000</td>\n",
              "      <td>79239.66667</td>\n",
              "      <td>0.045756</td>\n",
              "      <td>-0.000427</td>\n",
              "      <td>0.017689</td>\n",
              "      <td>1338.780000</td>\n",
              "      <td>2485.833333</td>\n",
              "    </tr>\n",
              "    <tr>\n",
              "      <th>12240</th>\n",
              "      <td>2019-06-22 02:00:00</td>\n",
              "      <td>2.14</td>\n",
              "      <td>27408.33333</td>\n",
              "      <td>37766.33333</td>\n",
              "      <td>74950.66667</td>\n",
              "      <td>-0.061052</td>\n",
              "      <td>-0.053822</td>\n",
              "      <td>-0.057224</td>\n",
              "      <td>1332.436667</td>\n",
              "      <td>3306.133333</td>\n",
              "    </tr>\n",
              "    <tr>\n",
              "      <th>12241</th>\n",
              "      <td>2019-06-22 03:00:00</td>\n",
              "      <td>2.14</td>\n",
              "      <td>26301.33333</td>\n",
              "      <td>36511.66667</td>\n",
              "      <td>72589.00000</td>\n",
              "      <td>-0.042089</td>\n",
              "      <td>-0.034363</td>\n",
              "      <td>-0.032535</td>\n",
              "      <td>1337.900000</td>\n",
              "      <td>3301.233333</td>\n",
              "    </tr>\n",
              "    <tr>\n",
              "      <th>12242</th>\n",
              "      <td>2019-06-22 04:00:00</td>\n",
              "      <td>2.14</td>\n",
              "      <td>25689.00000</td>\n",
              "      <td>35775.66667</td>\n",
              "      <td>70647.00000</td>\n",
              "      <td>-0.023836</td>\n",
              "      <td>-0.020573</td>\n",
              "      <td>-0.027489</td>\n",
              "      <td>1357.820000</td>\n",
              "      <td>3250.500000</td>\n",
              "    </tr>\n",
              "    <tr>\n",
              "      <th>12243</th>\n",
              "      <td>2019-06-22 05:00:00</td>\n",
              "      <td>2.14</td>\n",
              "      <td>25677.33333</td>\n",
              "      <td>35763.66667</td>\n",
              "      <td>70631.00000</td>\n",
              "      <td>-0.000454</td>\n",
              "      <td>-0.000336</td>\n",
              "      <td>-0.000227</td>\n",
              "      <td>1429.276667</td>\n",
              "      <td>3231.866667</td>\n",
              "    </tr>\n",
              "    <tr>\n",
              "      <th>12244</th>\n",
              "      <td>2019-06-22 06:00:00</td>\n",
              "      <td>2.14</td>\n",
              "      <td>26530.33333</td>\n",
              "      <td>36804.33333</td>\n",
              "      <td>72837.33333</td>\n",
              "      <td>0.032152</td>\n",
              "      <td>0.028276</td>\n",
              "      <td>0.030291</td>\n",
              "      <td>1551.206667</td>\n",
              "      <td>3277.800000</td>\n",
              "    </tr>\n",
              "    <tr>\n",
              "      <th>12245</th>\n",
              "      <td>2019-06-22 07:00:00</td>\n",
              "      <td>2.14</td>\n",
              "      <td>28147.66667</td>\n",
              "      <td>38446.00000</td>\n",
              "      <td>76632.00000</td>\n",
              "      <td>0.057459</td>\n",
              "      <td>0.042701</td>\n",
              "      <td>0.049518</td>\n",
              "      <td>1650.050000</td>\n",
              "      <td>3437.400000</td>\n",
              "    </tr>\n",
              "    <tr>\n",
              "      <th>12246</th>\n",
              "      <td>2019-06-22 08:00:00</td>\n",
              "      <td>2.14</td>\n",
              "      <td>29976.66667</td>\n",
              "      <td>40568.00000</td>\n",
              "      <td>81277.66667</td>\n",
              "      <td>0.061014</td>\n",
              "      <td>0.052307</td>\n",
              "      <td>0.057158</td>\n",
              "      <td>1762.573333</td>\n",
              "      <td>3600.833333</td>\n",
              "    </tr>\n",
              "    <tr>\n",
              "      <th>12247</th>\n",
              "      <td>2019-06-22 09:00:00</td>\n",
              "      <td>2.14</td>\n",
              "      <td>31610.66667</td>\n",
              "      <td>42737.66667</td>\n",
              "      <td>85779.66667</td>\n",
              "      <td>0.051691</td>\n",
              "      <td>0.050767</td>\n",
              "      <td>0.052483</td>\n",
              "      <td>1760.913333</td>\n",
              "      <td>3689.866667</td>\n",
              "    </tr>\n",
              "    <tr>\n",
              "      <th>12248</th>\n",
              "      <td>2019-06-22 10:00:00</td>\n",
              "      <td>2.14</td>\n",
              "      <td>33065.33333</td>\n",
              "      <td>44594.33333</td>\n",
              "      <td>89815.66667</td>\n",
              "      <td>0.043994</td>\n",
              "      <td>0.041635</td>\n",
              "      <td>0.044936</td>\n",
              "      <td>1728.506667</td>\n",
              "      <td>3877.533333</td>\n",
              "    </tr>\n",
              "    <tr>\n",
              "      <th>12249</th>\n",
              "      <td>2019-06-22 11:00:00</td>\n",
              "      <td>2.14</td>\n",
              "      <td>34442.66667</td>\n",
              "      <td>46242.00000</td>\n",
              "      <td>93586.66667</td>\n",
              "      <td>0.039989</td>\n",
              "      <td>0.035631</td>\n",
              "      <td>0.040294</td>\n",
              "      <td>1833.433333</td>\n",
              "      <td>4194.766667</td>\n",
              "    </tr>\n",
              "    <tr>\n",
              "      <th>12250</th>\n",
              "      <td>2019-06-22 12:00:00</td>\n",
              "      <td>2.14</td>\n",
              "      <td>35656.66667</td>\n",
              "      <td>47481.00000</td>\n",
              "      <td>96773.33333</td>\n",
              "      <td>0.034047</td>\n",
              "      <td>0.026095</td>\n",
              "      <td>0.032929</td>\n",
              "      <td>1978.593333</td>\n",
              "      <td>4680.200000</td>\n",
              "    </tr>\n",
              "    <tr>\n",
              "      <th>12251</th>\n",
              "      <td>2019-06-22 13:00:00</td>\n",
              "      <td>2.14</td>\n",
              "      <td>36672.66667</td>\n",
              "      <td>48419.66667</td>\n",
              "      <td>99406.00000</td>\n",
              "      <td>0.027705</td>\n",
              "      <td>0.019386</td>\n",
              "      <td>0.026484</td>\n",
              "      <td>2085.390000</td>\n",
              "      <td>5010.733333</td>\n",
              "    </tr>\n",
              "    <tr>\n",
              "      <th>12252</th>\n",
              "      <td>2019-06-22 14:00:00</td>\n",
              "      <td>2.14</td>\n",
              "      <td>37667.66667</td>\n",
              "      <td>49152.00000</td>\n",
              "      <td>101655.66670</td>\n",
              "      <td>0.026415</td>\n",
              "      <td>0.014899</td>\n",
              "      <td>0.022130</td>\n",
              "      <td>2204.160000</td>\n",
              "      <td>5258.366667</td>\n",
              "    </tr>\n",
              "    <tr>\n",
              "      <th>12253</th>\n",
              "      <td>2019-06-22 15:00:00</td>\n",
              "      <td>2.14</td>\n",
              "      <td>38519.00000</td>\n",
              "      <td>49616.33333</td>\n",
              "      <td>103481.33330</td>\n",
              "      <td>0.022102</td>\n",
              "      <td>0.009358</td>\n",
              "      <td>0.017642</td>\n",
              "      <td>2297.603333</td>\n",
              "      <td>5390.766667</td>\n",
              "    </tr>\n",
              "    <tr>\n",
              "      <th>12254</th>\n",
              "      <td>2019-06-22 16:00:00</td>\n",
              "      <td>2.14</td>\n",
              "      <td>39323.00000</td>\n",
              "      <td>49846.00000</td>\n",
              "      <td>104897.33330</td>\n",
              "      <td>0.020446</td>\n",
              "      <td>0.004608</td>\n",
              "      <td>0.013499</td>\n",
              "      <td>2413.770000</td>\n",
              "      <td>5445.666667</td>\n",
              "    </tr>\n",
              "    <tr>\n",
              "      <th>12255</th>\n",
              "      <td>2019-06-22 17:00:00</td>\n",
              "      <td>2.14</td>\n",
              "      <td>39977.33333</td>\n",
              "      <td>50069.66667</td>\n",
              "      <td>106014.33330</td>\n",
              "      <td>0.016368</td>\n",
              "      <td>0.004467</td>\n",
              "      <td>0.010536</td>\n",
              "      <td>2384.263333</td>\n",
              "      <td>5328.500000</td>\n",
              "    </tr>\n",
              "    <tr>\n",
              "      <th>12256</th>\n",
              "      <td>2019-06-22 18:00:00</td>\n",
              "      <td>2.14</td>\n",
              "      <td>40094.00000</td>\n",
              "      <td>49910.33333</td>\n",
              "      <td>105865.33330</td>\n",
              "      <td>0.002910</td>\n",
              "      <td>-0.003192</td>\n",
              "      <td>-0.001407</td>\n",
              "      <td>2249.340000</td>\n",
              "      <td>5148.100000</td>\n",
              "    </tr>\n",
              "    <tr>\n",
              "      <th>12257</th>\n",
              "      <td>2019-06-22 19:00:00</td>\n",
              "      <td>2.14</td>\n",
              "      <td>39220.33333</td>\n",
              "      <td>49111.66667</td>\n",
              "      <td>103806.66670</td>\n",
              "      <td>-0.022276</td>\n",
              "      <td>-0.016262</td>\n",
              "      <td>-0.019832</td>\n",
              "      <td>2123.240000</td>\n",
              "      <td>4896.866667</td>\n",
              "    </tr>\n",
              "    <tr>\n",
              "      <th>12258</th>\n",
              "      <td>2019-06-22 20:00:00</td>\n",
              "      <td>2.14</td>\n",
              "      <td>37941.00000</td>\n",
              "      <td>47944.66667</td>\n",
              "      <td>100838.00000</td>\n",
              "      <td>-0.033719</td>\n",
              "      <td>-0.024341</td>\n",
              "      <td>-0.029440</td>\n",
              "      <td>2186.883333</td>\n",
              "      <td>4763.366667</td>\n",
              "    </tr>\n",
              "    <tr>\n",
              "      <th>12259</th>\n",
              "      <td>2019-06-22 21:00:00</td>\n",
              "      <td>2.14</td>\n",
              "      <td>37007.33333</td>\n",
              "      <td>46967.33333</td>\n",
              "      <td>98356.00000</td>\n",
              "      <td>-0.025229</td>\n",
              "      <td>-0.020809</td>\n",
              "      <td>-0.025235</td>\n",
              "      <td>2225.260000</td>\n",
              "      <td>4614.000000</td>\n",
              "    </tr>\n",
              "    <tr>\n",
              "      <th>12260</th>\n",
              "      <td>2019-06-22 22:00:00</td>\n",
              "      <td>2.14</td>\n",
              "      <td>35803.66667</td>\n",
              "      <td>46630.00000</td>\n",
              "      <td>96225.33333</td>\n",
              "      <td>-0.033619</td>\n",
              "      <td>-0.007234</td>\n",
              "      <td>-0.022142</td>\n",
              "      <td>2289.120000</td>\n",
              "      <td>4648.433333</td>\n",
              "    </tr>\n",
              "    <tr>\n",
              "      <th>12261</th>\n",
              "      <td>2019-06-22 23:00:00</td>\n",
              "      <td>2.14</td>\n",
              "      <td>33323.66667</td>\n",
              "      <td>44547.66667</td>\n",
              "      <td>90641.00000</td>\n",
              "      <td>-0.074422</td>\n",
              "      <td>-0.046744</td>\n",
              "      <td>-0.061609</td>\n",
              "      <td>2302.613333</td>\n",
              "      <td>4838.333333</td>\n",
              "    </tr>\n",
              "    <tr>\n",
              "      <th>12262</th>\n",
              "      <td>2019-06-23 00:00:00</td>\n",
              "      <td>2.14</td>\n",
              "      <td>30597.00000</td>\n",
              "      <td>41509.66667</td>\n",
              "      <td>83825.00000</td>\n",
              "      <td>-0.089115</td>\n",
              "      <td>-0.073188</td>\n",
              "      <td>-0.081312</td>\n",
              "      <td>2304.756667</td>\n",
              "      <td>4920.933333</td>\n",
              "    </tr>\n",
              "  </tbody>\n",
              "</table>\n",
              "</div>"
            ],
            "text/plain": [
              "                    dates  Gas.price  ...  PJM.POOL.J2  MISO_POOL_J2\n",
              "12238 2019-06-22 00:00:00       2.13  ...  3549.650000   8822.600000\n",
              "12239 2019-06-22 01:00:00       2.14  ...  1338.780000   2485.833333\n",
              "12240 2019-06-22 02:00:00       2.14  ...  1332.436667   3306.133333\n",
              "12241 2019-06-22 03:00:00       2.14  ...  1337.900000   3301.233333\n",
              "12242 2019-06-22 04:00:00       2.14  ...  1357.820000   3250.500000\n",
              "12243 2019-06-22 05:00:00       2.14  ...  1429.276667   3231.866667\n",
              "12244 2019-06-22 06:00:00       2.14  ...  1551.206667   3277.800000\n",
              "12245 2019-06-22 07:00:00       2.14  ...  1650.050000   3437.400000\n",
              "12246 2019-06-22 08:00:00       2.14  ...  1762.573333   3600.833333\n",
              "12247 2019-06-22 09:00:00       2.14  ...  1760.913333   3689.866667\n",
              "12248 2019-06-22 10:00:00       2.14  ...  1728.506667   3877.533333\n",
              "12249 2019-06-22 11:00:00       2.14  ...  1833.433333   4194.766667\n",
              "12250 2019-06-22 12:00:00       2.14  ...  1978.593333   4680.200000\n",
              "12251 2019-06-22 13:00:00       2.14  ...  2085.390000   5010.733333\n",
              "12252 2019-06-22 14:00:00       2.14  ...  2204.160000   5258.366667\n",
              "12253 2019-06-22 15:00:00       2.14  ...  2297.603333   5390.766667\n",
              "12254 2019-06-22 16:00:00       2.14  ...  2413.770000   5445.666667\n",
              "12255 2019-06-22 17:00:00       2.14  ...  2384.263333   5328.500000\n",
              "12256 2019-06-22 18:00:00       2.14  ...  2249.340000   5148.100000\n",
              "12257 2019-06-22 19:00:00       2.14  ...  2123.240000   4896.866667\n",
              "12258 2019-06-22 20:00:00       2.14  ...  2186.883333   4763.366667\n",
              "12259 2019-06-22 21:00:00       2.14  ...  2225.260000   4614.000000\n",
              "12260 2019-06-22 22:00:00       2.14  ...  2289.120000   4648.433333\n",
              "12261 2019-06-22 23:00:00       2.14  ...  2302.613333   4838.333333\n",
              "12262 2019-06-23 00:00:00       2.14  ...  2304.756667   4920.933333\n",
              "\n",
              "[25 rows x 10 columns]"
            ]
          },
          "metadata": {
            "tags": []
          },
          "execution_count": 14
        }
      ]
    },
    {
      "cell_type": "markdown",
      "metadata": {
        "id": "Gn2OWPIC_O3z"
      },
      "source": [
        "To facilitate the imputation, the latter was done on Excel directly. The files were updated on the drive.\n",
        "Now, we will take the pertinent dates until December 31st 2019"
      ]
    },
    {
      "cell_type": "markdown",
      "metadata": {
        "id": "86Pihu4o_cwH"
      },
      "source": [
        "#Choosing the nodes\n"
      ]
    },
    {
      "cell_type": "code",
      "metadata": {
        "id": "jy1na0i5DVfz"
      },
      "source": [
        "# Creating the DART df\n",
        "\n",
        "dam_prices = dam_prices.set_index(\"dates\", drop = True)\n",
        "rt_prices = rt_prices.set_index(\"dates\", drop = True)"
      ],
      "execution_count": null,
      "outputs": []
    },
    {
      "cell_type": "code",
      "metadata": {
        "id": "VYWZHvrFDyyj"
      },
      "source": [
        "dart_prices = pd.DataFrame()\n",
        "\n",
        "for i in range(1,len(columns)):\n",
        "  dart = dam_prices.iloc[:,i] - rt_prices.iloc[:,i]\n",
        "  dart_prices[columns[i]] = dart"
      ],
      "execution_count": null,
      "outputs": []
    },
    {
      "cell_type": "code",
      "metadata": {
        "id": "-6V1TSyde2Nc",
        "colab": {
          "base_uri": "https://localhost:8080/",
          "height": 413
        },
        "outputId": "fec19606-358f-439a-ecde-6db2934dab0b"
      },
      "source": [
        "dart_prices.head()"
      ],
      "execution_count": null,
      "outputs": [
        {
          "output_type": "execute_result",
          "data": {
            "text/html": [
              "<div>\n",
              "<style scoped>\n",
              "    .dataframe tbody tr th:only-of-type {\n",
              "        vertical-align: middle;\n",
              "    }\n",
              "\n",
              "    .dataframe tbody tr th {\n",
              "        vertical-align: top;\n",
              "    }\n",
              "\n",
              "    .dataframe thead th {\n",
              "        text-align: right;\n",
              "    }\n",
              "</style>\n",
              "<table border=\"1\" class=\"dataframe\">\n",
              "  <thead>\n",
              "    <tr style=\"text-align: right;\">\n",
              "      <th></th>\n",
              "      <th>AEP.GEN.HUB..DALMP..Average</th>\n",
              "      <th>AEP.DAYTON.HUB..DALMP..Average</th>\n",
              "      <th>AEPAPCO_RESID_AGG..DALMP..Average</th>\n",
              "      <th>AEPIM_RESID_AGG..DALMP..Average</th>\n",
              "      <th>AEPKY_RESID_AGG..DALMP..Average</th>\n",
              "      <th>AEPOHIO_RESID_AGG..DALMP..Average</th>\n",
              "      <th>APS_RESID_AGG..DALMP..Average</th>\n",
              "      <th>ATSI.GEN.HUB..DALMP..Average</th>\n",
              "      <th>BGE_RESID_AGG..DALMP..Average</th>\n",
              "      <th>CHICAGO.GEN.HUB..DALMP..Average</th>\n",
              "      <th>CHICAGO.HUB..DALMP..Average</th>\n",
              "      <th>COMED_RESID_AGG..DALMP..Average</th>\n",
              "      <th>DAY_RESID_AGG..DALMP..Average</th>\n",
              "      <th>DEOK_RESID_AGG..DALMP..Average</th>\n",
              "      <th>DOMINION.HUB..DALMP..Average</th>\n",
              "      <th>DOM_RESID_AGG..DALMP..Average</th>\n",
              "      <th>DPLEASTON_RESID_AGG..DALMP..Average</th>\n",
              "      <th>DPL_RESID_AGG..DALMP..Average</th>\n",
              "      <th>DUQ_RESID_AGG..DALMP..Average</th>\n",
              "      <th>EASTERN.HUB..DALMP..Average</th>\n",
              "      <th>EKPC_RESID_AGG..DALMP..Average</th>\n",
              "      <th>FEOHIO_RESID_AGG..DALMP..Average</th>\n",
              "      <th>HUDSONTP..DALMP..Average</th>\n",
              "      <th>IMO..DALMP..Average</th>\n",
              "      <th>JCPL_RESID_AGG..DALMP..Average</th>\n",
              "      <th>LINDENVFT..DALMP..Average</th>\n",
              "      <th>METED_RESID_AGG..DALMP..Average</th>\n",
              "      <th>MISO..DALMP..Average</th>\n",
              "      <th>N.ILLINOIS.HUB..DALMP..Average</th>\n",
              "      <th>NEPTUNE..DALMP..Average</th>\n",
              "      <th>NEW.JERSEY.HUB..DALMP..Average</th>\n",
              "      <th>NIPSCO..DALMP..Average</th>\n",
              "      <th>NORTHWEST..DALMP..Average</th>\n",
              "      <th>NYIS..DALMP..Average</th>\n",
              "      <th>OHIO.HUB..DALMP..Average</th>\n",
              "      <th>PECO_RESID_AGG..DALMP..Average</th>\n",
              "      <th>PENELEC_RESID_AGG..DALMP..Average</th>\n",
              "      <th>PENNPOWER_RESID_AGG..DALMP..Average</th>\n",
              "      <th>PPL_RESID_AGG..DALMP..Average</th>\n",
              "      <th>PSEG_RESID_AGG..DALMP..Average</th>\n",
              "      <th>RECO_RESID_AGG..DALMP..Average</th>\n",
              "      <th>SMECO_RESID_AGG..DALMP..Average</th>\n",
              "      <th>SOUTHEXP..DALMP..Average</th>\n",
              "      <th>SOUTHIMP..DALMP..Average</th>\n",
              "      <th>UGI_RESID_AGG..DALMP..Average</th>\n",
              "      <th>VINELAND_RESID_AGG..DALMP..Average</th>\n",
              "      <th>WESTERN.HUB..DALMP..Average</th>\n",
              "    </tr>\n",
              "    <tr>\n",
              "      <th>dates</th>\n",
              "      <th></th>\n",
              "      <th></th>\n",
              "      <th></th>\n",
              "      <th></th>\n",
              "      <th></th>\n",
              "      <th></th>\n",
              "      <th></th>\n",
              "      <th></th>\n",
              "      <th></th>\n",
              "      <th></th>\n",
              "      <th></th>\n",
              "      <th></th>\n",
              "      <th></th>\n",
              "      <th></th>\n",
              "      <th></th>\n",
              "      <th></th>\n",
              "      <th></th>\n",
              "      <th></th>\n",
              "      <th></th>\n",
              "      <th></th>\n",
              "      <th></th>\n",
              "      <th></th>\n",
              "      <th></th>\n",
              "      <th></th>\n",
              "      <th></th>\n",
              "      <th></th>\n",
              "      <th></th>\n",
              "      <th></th>\n",
              "      <th></th>\n",
              "      <th></th>\n",
              "      <th></th>\n",
              "      <th></th>\n",
              "      <th></th>\n",
              "      <th></th>\n",
              "      <th></th>\n",
              "      <th></th>\n",
              "      <th></th>\n",
              "      <th></th>\n",
              "      <th></th>\n",
              "      <th></th>\n",
              "      <th></th>\n",
              "      <th></th>\n",
              "      <th></th>\n",
              "      <th></th>\n",
              "      <th></th>\n",
              "      <th></th>\n",
              "      <th></th>\n",
              "    </tr>\n",
              "  </thead>\n",
              "  <tbody>\n",
              "    <tr>\n",
              "      <th>2018-01-28 01:00:00</th>\n",
              "      <td>0.30</td>\n",
              "      <td>0.17</td>\n",
              "      <td>0.51</td>\n",
              "      <td>-0.27</td>\n",
              "      <td>0.62</td>\n",
              "      <td>0.32</td>\n",
              "      <td>0.90</td>\n",
              "      <td>0.45</td>\n",
              "      <td>1.69</td>\n",
              "      <td>-0.46</td>\n",
              "      <td>-0.44</td>\n",
              "      <td>-0.45</td>\n",
              "      <td>0.28</td>\n",
              "      <td>0.25</td>\n",
              "      <td>1.33</td>\n",
              "      <td>1.35</td>\n",
              "      <td>1.54</td>\n",
              "      <td>1.58</td>\n",
              "      <td>0.66</td>\n",
              "      <td>1.41</td>\n",
              "      <td>0.14</td>\n",
              "      <td>0.53</td>\n",
              "      <td>1.39</td>\n",
              "      <td>0.38</td>\n",
              "      <td>0.99</td>\n",
              "      <td>0.95</td>\n",
              "      <td>1.29</td>\n",
              "      <td>-0.29</td>\n",
              "      <td>-0.44</td>\n",
              "      <td>1.02</td>\n",
              "      <td>1.00</td>\n",
              "      <td>-0.44</td>\n",
              "      <td>-0.54</td>\n",
              "      <td>0.71</td>\n",
              "      <td>0.07</td>\n",
              "      <td>1.05</td>\n",
              "      <td>0.82</td>\n",
              "      <td>0.66</td>\n",
              "      <td>0.71</td>\n",
              "      <td>0.96</td>\n",
              "      <td>0.73</td>\n",
              "      <td>1.47</td>\n",
              "      <td>0.26</td>\n",
              "      <td>0.26</td>\n",
              "      <td>0.85</td>\n",
              "      <td>1.07</td>\n",
              "      <td>1.03</td>\n",
              "    </tr>\n",
              "    <tr>\n",
              "      <th>2018-01-28 02:00:00</th>\n",
              "      <td>0.13</td>\n",
              "      <td>-0.01</td>\n",
              "      <td>0.37</td>\n",
              "      <td>-0.50</td>\n",
              "      <td>0.51</td>\n",
              "      <td>0.14</td>\n",
              "      <td>0.63</td>\n",
              "      <td>0.23</td>\n",
              "      <td>1.41</td>\n",
              "      <td>-0.74</td>\n",
              "      <td>-0.72</td>\n",
              "      <td>-0.73</td>\n",
              "      <td>0.09</td>\n",
              "      <td>0.07</td>\n",
              "      <td>1.09</td>\n",
              "      <td>1.09</td>\n",
              "      <td>1.06</td>\n",
              "      <td>1.12</td>\n",
              "      <td>0.45</td>\n",
              "      <td>0.94</td>\n",
              "      <td>-0.01</td>\n",
              "      <td>0.34</td>\n",
              "      <td>1.95</td>\n",
              "      <td>0.27</td>\n",
              "      <td>0.53</td>\n",
              "      <td>0.63</td>\n",
              "      <td>0.69</td>\n",
              "      <td>-0.61</td>\n",
              "      <td>-0.72</td>\n",
              "      <td>0.56</td>\n",
              "      <td>0.75</td>\n",
              "      <td>-0.69</td>\n",
              "      <td>-0.83</td>\n",
              "      <td>0.87</td>\n",
              "      <td>-0.12</td>\n",
              "      <td>0.60</td>\n",
              "      <td>0.49</td>\n",
              "      <td>0.44</td>\n",
              "      <td>0.26</td>\n",
              "      <td>0.94</td>\n",
              "      <td>0.97</td>\n",
              "      <td>1.17</td>\n",
              "      <td>0.08</td>\n",
              "      <td>0.08</td>\n",
              "      <td>0.42</td>\n",
              "      <td>0.61</td>\n",
              "      <td>0.72</td>\n",
              "    </tr>\n",
              "    <tr>\n",
              "      <th>2018-01-28 03:00:00</th>\n",
              "      <td>0.16</td>\n",
              "      <td>0.02</td>\n",
              "      <td>0.43</td>\n",
              "      <td>-0.48</td>\n",
              "      <td>0.53</td>\n",
              "      <td>0.19</td>\n",
              "      <td>0.63</td>\n",
              "      <td>0.31</td>\n",
              "      <td>1.54</td>\n",
              "      <td>-0.67</td>\n",
              "      <td>-0.65</td>\n",
              "      <td>-0.66</td>\n",
              "      <td>0.14</td>\n",
              "      <td>0.11</td>\n",
              "      <td>1.13</td>\n",
              "      <td>1.12</td>\n",
              "      <td>0.86</td>\n",
              "      <td>0.91</td>\n",
              "      <td>0.46</td>\n",
              "      <td>0.74</td>\n",
              "      <td>0.06</td>\n",
              "      <td>0.39</td>\n",
              "      <td>1.62</td>\n",
              "      <td>0.24</td>\n",
              "      <td>0.39</td>\n",
              "      <td>0.50</td>\n",
              "      <td>0.53</td>\n",
              "      <td>-0.60</td>\n",
              "      <td>-0.66</td>\n",
              "      <td>0.45</td>\n",
              "      <td>0.60</td>\n",
              "      <td>-0.64</td>\n",
              "      <td>-0.74</td>\n",
              "      <td>0.77</td>\n",
              "      <td>-0.08</td>\n",
              "      <td>0.43</td>\n",
              "      <td>0.49</td>\n",
              "      <td>0.44</td>\n",
              "      <td>-0.02</td>\n",
              "      <td>0.80</td>\n",
              "      <td>0.87</td>\n",
              "      <td>1.14</td>\n",
              "      <td>0.14</td>\n",
              "      <td>0.14</td>\n",
              "      <td>0.27</td>\n",
              "      <td>0.42</td>\n",
              "      <td>0.70</td>\n",
              "    </tr>\n",
              "    <tr>\n",
              "      <th>2018-01-28 04:00:00</th>\n",
              "      <td>0.01</td>\n",
              "      <td>-0.14</td>\n",
              "      <td>0.32</td>\n",
              "      <td>-0.67</td>\n",
              "      <td>0.39</td>\n",
              "      <td>0.05</td>\n",
              "      <td>0.49</td>\n",
              "      <td>0.19</td>\n",
              "      <td>1.48</td>\n",
              "      <td>-0.89</td>\n",
              "      <td>-0.88</td>\n",
              "      <td>-0.89</td>\n",
              "      <td>-0.07</td>\n",
              "      <td>-0.10</td>\n",
              "      <td>1.08</td>\n",
              "      <td>1.05</td>\n",
              "      <td>0.66</td>\n",
              "      <td>0.73</td>\n",
              "      <td>0.34</td>\n",
              "      <td>0.55</td>\n",
              "      <td>-0.13</td>\n",
              "      <td>0.27</td>\n",
              "      <td>1.02</td>\n",
              "      <td>-0.16</td>\n",
              "      <td>0.18</td>\n",
              "      <td>0.17</td>\n",
              "      <td>0.36</td>\n",
              "      <td>-0.86</td>\n",
              "      <td>-0.88</td>\n",
              "      <td>0.26</td>\n",
              "      <td>0.29</td>\n",
              "      <td>-0.87</td>\n",
              "      <td>-0.94</td>\n",
              "      <td>0.26</td>\n",
              "      <td>-0.26</td>\n",
              "      <td>0.22</td>\n",
              "      <td>0.25</td>\n",
              "      <td>0.29</td>\n",
              "      <td>-0.24</td>\n",
              "      <td>0.39</td>\n",
              "      <td>0.32</td>\n",
              "      <td>1.08</td>\n",
              "      <td>-0.03</td>\n",
              "      <td>-0.03</td>\n",
              "      <td>0.06</td>\n",
              "      <td>0.20</td>\n",
              "      <td>0.52</td>\n",
              "    </tr>\n",
              "    <tr>\n",
              "      <th>2018-01-28 05:00:00</th>\n",
              "      <td>-0.37</td>\n",
              "      <td>-0.55</td>\n",
              "      <td>-0.10</td>\n",
              "      <td>-1.15</td>\n",
              "      <td>0.02</td>\n",
              "      <td>-0.31</td>\n",
              "      <td>0.13</td>\n",
              "      <td>-0.09</td>\n",
              "      <td>1.03</td>\n",
              "      <td>-1.28</td>\n",
              "      <td>-1.27</td>\n",
              "      <td>-1.28</td>\n",
              "      <td>-0.51</td>\n",
              "      <td>-0.55</td>\n",
              "      <td>0.68</td>\n",
              "      <td>0.66</td>\n",
              "      <td>0.23</td>\n",
              "      <td>0.33</td>\n",
              "      <td>0.03</td>\n",
              "      <td>0.17</td>\n",
              "      <td>-0.52</td>\n",
              "      <td>-0.02</td>\n",
              "      <td>0.22</td>\n",
              "      <td>-0.73</td>\n",
              "      <td>-0.14</td>\n",
              "      <td>-0.30</td>\n",
              "      <td>0.02</td>\n",
              "      <td>-1.36</td>\n",
              "      <td>-1.28</td>\n",
              "      <td>-0.03</td>\n",
              "      <td>-0.18</td>\n",
              "      <td>-1.31</td>\n",
              "      <td>-1.25</td>\n",
              "      <td>-0.39</td>\n",
              "      <td>-0.68</td>\n",
              "      <td>-0.13</td>\n",
              "      <td>-0.08</td>\n",
              "      <td>-0.04</td>\n",
              "      <td>-0.54</td>\n",
              "      <td>-0.18</td>\n",
              "      <td>-0.37</td>\n",
              "      <td>0.70</td>\n",
              "      <td>-0.43</td>\n",
              "      <td>-0.43</td>\n",
              "      <td>-0.29</td>\n",
              "      <td>-0.15</td>\n",
              "      <td>0.17</td>\n",
              "    </tr>\n",
              "  </tbody>\n",
              "</table>\n",
              "</div>"
            ],
            "text/plain": [
              "                     AEP.GEN.HUB..DALMP..Average  ...  WESTERN.HUB..DALMP..Average\n",
              "dates                                             ...                             \n",
              "2018-01-28 01:00:00                         0.30  ...                         1.03\n",
              "2018-01-28 02:00:00                         0.13  ...                         0.72\n",
              "2018-01-28 03:00:00                         0.16  ...                         0.70\n",
              "2018-01-28 04:00:00                         0.01  ...                         0.52\n",
              "2018-01-28 05:00:00                        -0.37  ...                         0.17\n",
              "\n",
              "[5 rows x 47 columns]"
            ]
          },
          "metadata": {
            "tags": []
          },
          "execution_count": 22
        }
      ]
    },
    {
      "cell_type": "code",
      "metadata": {
        "id": "KLSPmwR3GY9n"
      },
      "source": [
        "columns = list(dart_prices.columns)"
      ],
      "execution_count": null,
      "outputs": []
    },
    {
      "cell_type": "code",
      "metadata": {
        "id": "wu-CCFLG_Zyx",
        "colab": {
          "base_uri": "https://localhost:8080/",
          "height": 53
        },
        "outputId": "64b3951e-83d7-47d8-f66d-a39062c12bf1"
      },
      "source": [
        "mean_profit = list()\n",
        "sum_profit = list()\n",
        "\n",
        "for i in range(0,len(columns)):\n",
        "   \n",
        "  a = dart_prices.iloc[:,i].mean()\n",
        "  mean_profit.append(a)\n",
        "  b = dart_prices.iloc[:,i].sum()\n",
        "  sum_profit.append(b)\n",
        "\n",
        "print(sum_profit)\n",
        "\n",
        "\n",
        "\n"
      ],
      "execution_count": null,
      "outputs": [
        {
          "output_type": "stream",
          "text": [
            "[3187.3574074199987, 469.31074057000114, 3936.6404938, 242.96259264000048, 7349.74086421, -2328.554938370001, 3802.6449384600005, -3550.3801233700015, 6548.322962860002, 2244.87558272, 2628.2261720160004, 2616.1382320040007, -270.07586875000214, 5764.413657859998, 6801.72643345, 7854.2836609, -4226.509105769998, -5372.581439600001, -2440.3325279299993, -3231.9286784100004, 2861.4956155599984, -3684.7574177000006, 5912.67779056, 6595.24224761, 1316.4402067699993, 3714.72115979, 1612.6673125000004, 5516.61357953, 2368.264302401001, 2916.87647793, 1979.5817659099998, 7035.468321889999, 3177.6325303929984, 5118.404228720001, -561.5630902399992, 302.6575254500005, 4910.46762766, 4121.658431639999, 604.9339165299996, 2669.740636320001, 4243.481559469999, 8512.38692034, 2822.808521060002, 2898.548521060002, -60.46675885000013, 2582.4667902500005, 6427.381184260001]\n"
          ],
          "name": "stdout"
        }
      ]
    },
    {
      "cell_type": "code",
      "metadata": {
        "id": "nII2maWEmD_p"
      },
      "source": [
        "statis = pd.DataFrame([mean_profit,sum_profit])\n",
        "statis = statis.transpose()\n",
        "statis.index = columns\n",
        "statis.columns = [\"Mean\", \"Sum\"]"
      ],
      "execution_count": null,
      "outputs": []
    },
    {
      "cell_type": "code",
      "metadata": {
        "id": "7W7g_g_wpUOl"
      },
      "source": [
        "statis"
      ],
      "execution_count": null,
      "outputs": []
    },
    {
      "cell_type": "code",
      "metadata": {
        "id": "7YTLgiVemd0b"
      },
      "source": [
        "statis_sum = statis.sort_values(by = [\"Sum\"], ascending= False)"
      ],
      "execution_count": null,
      "outputs": []
    },
    {
      "cell_type": "code",
      "metadata": {
        "id": "P9RbJGrDpmKo",
        "colab": {
          "base_uri": "https://localhost:8080/",
          "height": 345
        },
        "outputId": "d18ee1df-1572-455f-c9e8-eb445f202653"
      },
      "source": [
        "statis_sum.head(10)"
      ],
      "execution_count": null,
      "outputs": [
        {
          "output_type": "execute_result",
          "data": {
            "text/html": [
              "<div>\n",
              "<style scoped>\n",
              "    .dataframe tbody tr th:only-of-type {\n",
              "        vertical-align: middle;\n",
              "    }\n",
              "\n",
              "    .dataframe tbody tr th {\n",
              "        vertical-align: top;\n",
              "    }\n",
              "\n",
              "    .dataframe thead th {\n",
              "        text-align: right;\n",
              "    }\n",
              "</style>\n",
              "<table border=\"1\" class=\"dataframe\">\n",
              "  <thead>\n",
              "    <tr style=\"text-align: right;\">\n",
              "      <th></th>\n",
              "      <th>Mean</th>\n",
              "      <th>Sum</th>\n",
              "    </tr>\n",
              "  </thead>\n",
              "  <tbody>\n",
              "    <tr>\n",
              "      <th>SMECO_RESID_AGG..DALMP..Average</th>\n",
              "      <td>0.504557</td>\n",
              "      <td>8512.386920</td>\n",
              "    </tr>\n",
              "    <tr>\n",
              "      <th>DOM_RESID_AGG..DALMP..Average</th>\n",
              "      <td>0.465549</td>\n",
              "      <td>7854.283661</td>\n",
              "    </tr>\n",
              "    <tr>\n",
              "      <th>AEPKY_RESID_AGG..DALMP..Average</th>\n",
              "      <td>0.435643</td>\n",
              "      <td>7349.740864</td>\n",
              "    </tr>\n",
              "    <tr>\n",
              "      <th>NIPSCO..DALMP..Average</th>\n",
              "      <td>0.417015</td>\n",
              "      <td>7035.468322</td>\n",
              "    </tr>\n",
              "    <tr>\n",
              "      <th>DOMINION.HUB..DALMP..Average</th>\n",
              "      <td>0.403161</td>\n",
              "      <td>6801.726433</td>\n",
              "    </tr>\n",
              "    <tr>\n",
              "      <th>IMO..DALMP..Average</th>\n",
              "      <td>0.390922</td>\n",
              "      <td>6595.242248</td>\n",
              "    </tr>\n",
              "    <tr>\n",
              "      <th>BGE_RESID_AGG..DALMP..Average</th>\n",
              "      <td>0.388141</td>\n",
              "      <td>6548.322963</td>\n",
              "    </tr>\n",
              "    <tr>\n",
              "      <th>WESTERN.HUB..DALMP..Average</th>\n",
              "      <td>0.380972</td>\n",
              "      <td>6427.381184</td>\n",
              "    </tr>\n",
              "    <tr>\n",
              "      <th>HUDSONTP..DALMP..Average</th>\n",
              "      <td>0.350464</td>\n",
              "      <td>5912.677791</td>\n",
              "    </tr>\n",
              "    <tr>\n",
              "      <th>DEOK_RESID_AGG..DALMP..Average</th>\n",
              "      <td>0.341676</td>\n",
              "      <td>5764.413658</td>\n",
              "    </tr>\n",
              "  </tbody>\n",
              "</table>\n",
              "</div>"
            ],
            "text/plain": [
              "                                     Mean          Sum\n",
              "SMECO_RESID_AGG..DALMP..Average  0.504557  8512.386920\n",
              "DOM_RESID_AGG..DALMP..Average    0.465549  7854.283661\n",
              "AEPKY_RESID_AGG..DALMP..Average  0.435643  7349.740864\n",
              "NIPSCO..DALMP..Average           0.417015  7035.468322\n",
              "DOMINION.HUB..DALMP..Average     0.403161  6801.726433\n",
              "IMO..DALMP..Average              0.390922  6595.242248\n",
              "BGE_RESID_AGG..DALMP..Average    0.388141  6548.322963\n",
              "WESTERN.HUB..DALMP..Average      0.380972  6427.381184\n",
              "HUDSONTP..DALMP..Average         0.350464  5912.677791\n",
              "DEOK_RESID_AGG..DALMP..Average   0.341676  5764.413658"
            ]
          },
          "metadata": {
            "tags": []
          },
          "execution_count": 40
        }
      ]
    },
    {
      "cell_type": "code",
      "metadata": {
        "id": "jm_7f0iQput4",
        "colab": {
          "base_uri": "https://localhost:8080/",
          "height": 345
        },
        "outputId": "7c5e9ff7-e604-4297-f6ac-a902a84aff34"
      },
      "source": [
        "statis_mean = statis.sort_values(by = [\"Mean\"], ascending= False)\n",
        "statis_mean.head(10)"
      ],
      "execution_count": null,
      "outputs": [
        {
          "output_type": "execute_result",
          "data": {
            "text/html": [
              "<div>\n",
              "<style scoped>\n",
              "    .dataframe tbody tr th:only-of-type {\n",
              "        vertical-align: middle;\n",
              "    }\n",
              "\n",
              "    .dataframe tbody tr th {\n",
              "        vertical-align: top;\n",
              "    }\n",
              "\n",
              "    .dataframe thead th {\n",
              "        text-align: right;\n",
              "    }\n",
              "</style>\n",
              "<table border=\"1\" class=\"dataframe\">\n",
              "  <thead>\n",
              "    <tr style=\"text-align: right;\">\n",
              "      <th></th>\n",
              "      <th>Mean</th>\n",
              "      <th>Sum</th>\n",
              "    </tr>\n",
              "  </thead>\n",
              "  <tbody>\n",
              "    <tr>\n",
              "      <th>SMECO_RESID_AGG..DALMP..Average</th>\n",
              "      <td>0.504557</td>\n",
              "      <td>8512.386920</td>\n",
              "    </tr>\n",
              "    <tr>\n",
              "      <th>DOM_RESID_AGG..DALMP..Average</th>\n",
              "      <td>0.465549</td>\n",
              "      <td>7854.283661</td>\n",
              "    </tr>\n",
              "    <tr>\n",
              "      <th>AEPKY_RESID_AGG..DALMP..Average</th>\n",
              "      <td>0.435643</td>\n",
              "      <td>7349.740864</td>\n",
              "    </tr>\n",
              "    <tr>\n",
              "      <th>NIPSCO..DALMP..Average</th>\n",
              "      <td>0.417015</td>\n",
              "      <td>7035.468322</td>\n",
              "    </tr>\n",
              "    <tr>\n",
              "      <th>DOMINION.HUB..DALMP..Average</th>\n",
              "      <td>0.403161</td>\n",
              "      <td>6801.726433</td>\n",
              "    </tr>\n",
              "    <tr>\n",
              "      <th>IMO..DALMP..Average</th>\n",
              "      <td>0.390922</td>\n",
              "      <td>6595.242248</td>\n",
              "    </tr>\n",
              "    <tr>\n",
              "      <th>BGE_RESID_AGG..DALMP..Average</th>\n",
              "      <td>0.388141</td>\n",
              "      <td>6548.322963</td>\n",
              "    </tr>\n",
              "    <tr>\n",
              "      <th>WESTERN.HUB..DALMP..Average</th>\n",
              "      <td>0.380972</td>\n",
              "      <td>6427.381184</td>\n",
              "    </tr>\n",
              "    <tr>\n",
              "      <th>HUDSONTP..DALMP..Average</th>\n",
              "      <td>0.350464</td>\n",
              "      <td>5912.677791</td>\n",
              "    </tr>\n",
              "    <tr>\n",
              "      <th>DEOK_RESID_AGG..DALMP..Average</th>\n",
              "      <td>0.341676</td>\n",
              "      <td>5764.413658</td>\n",
              "    </tr>\n",
              "  </tbody>\n",
              "</table>\n",
              "</div>"
            ],
            "text/plain": [
              "                                     Mean          Sum\n",
              "SMECO_RESID_AGG..DALMP..Average  0.504557  8512.386920\n",
              "DOM_RESID_AGG..DALMP..Average    0.465549  7854.283661\n",
              "AEPKY_RESID_AGG..DALMP..Average  0.435643  7349.740864\n",
              "NIPSCO..DALMP..Average           0.417015  7035.468322\n",
              "DOMINION.HUB..DALMP..Average     0.403161  6801.726433\n",
              "IMO..DALMP..Average              0.390922  6595.242248\n",
              "BGE_RESID_AGG..DALMP..Average    0.388141  6548.322963\n",
              "WESTERN.HUB..DALMP..Average      0.380972  6427.381184\n",
              "HUDSONTP..DALMP..Average         0.350464  5912.677791\n",
              "DEOK_RESID_AGG..DALMP..Average   0.341676  5764.413658"
            ]
          },
          "metadata": {
            "tags": []
          },
          "execution_count": 41
        }
      ]
    },
    {
      "cell_type": "markdown",
      "metadata": {
        "id": "69zBbibFqg7W"
      },
      "source": [
        "We will choose only three nodes to model due to time restrictions. The nodes are: SMECO_RESID_AGG, DOM_RESID_AGG, AEPKY_RESID_AGG"
      ]
    },
    {
      "cell_type": "code",
      "metadata": {
        "id": "QBO81gXrs9NR"
      },
      "source": [
        "columns_dam = [\"SMECO_RESID_AGG..DALMP..Average\", \"DOM_RESID_AGG..DALMP..Average\",\"AEPKY_RESID_AGG..DALMP..Average\"]\n",
        "columns_rt = [\"SMECO_RESID_AGG..RTLMP..Average\", \"DOM_RESID_AGG..RTLMP..Average\",\"AEPKY_RESID_AGG..RTLMP..Average\"]"
      ],
      "execution_count": null,
      "outputs": []
    },
    {
      "cell_type": "code",
      "metadata": {
        "id": "Z8LeULMdtnYo",
        "colab": {
          "base_uri": "https://localhost:8080/",
          "height": 226
        },
        "outputId": "80d0ad12-5dd8-415f-c148-619e6b16eec3"
      },
      "source": [
        "rt_prices = rt_prices.filter(items = columns_rt, axis = 1)\n",
        "rt_prices.head()"
      ],
      "execution_count": null,
      "outputs": [
        {
          "output_type": "execute_result",
          "data": {
            "text/html": [
              "<div>\n",
              "<style scoped>\n",
              "    .dataframe tbody tr th:only-of-type {\n",
              "        vertical-align: middle;\n",
              "    }\n",
              "\n",
              "    .dataframe tbody tr th {\n",
              "        vertical-align: top;\n",
              "    }\n",
              "\n",
              "    .dataframe thead th {\n",
              "        text-align: right;\n",
              "    }\n",
              "</style>\n",
              "<table border=\"1\" class=\"dataframe\">\n",
              "  <thead>\n",
              "    <tr style=\"text-align: right;\">\n",
              "      <th></th>\n",
              "      <th>SMECO_RESID_AGG..RTLMP..Average</th>\n",
              "      <th>DOM_RESID_AGG..RTLMP..Average</th>\n",
              "      <th>AEPKY_RESID_AGG..RTLMP..Average</th>\n",
              "    </tr>\n",
              "    <tr>\n",
              "      <th>dates</th>\n",
              "      <th></th>\n",
              "      <th></th>\n",
              "      <th></th>\n",
              "    </tr>\n",
              "  </thead>\n",
              "  <tbody>\n",
              "    <tr>\n",
              "      <th>2018-01-28 01:00:00</th>\n",
              "      <td>22.02</td>\n",
              "      <td>21.98</td>\n",
              "      <td>21.98</td>\n",
              "    </tr>\n",
              "    <tr>\n",
              "      <th>2018-01-28 02:00:00</th>\n",
              "      <td>21.68</td>\n",
              "      <td>21.64</td>\n",
              "      <td>21.66</td>\n",
              "    </tr>\n",
              "    <tr>\n",
              "      <th>2018-01-28 03:00:00</th>\n",
              "      <td>21.13</td>\n",
              "      <td>21.12</td>\n",
              "      <td>21.21</td>\n",
              "    </tr>\n",
              "    <tr>\n",
              "      <th>2018-01-28 04:00:00</th>\n",
              "      <td>21.22</td>\n",
              "      <td>21.23</td>\n",
              "      <td>21.39</td>\n",
              "    </tr>\n",
              "    <tr>\n",
              "      <th>2018-01-28 05:00:00</th>\n",
              "      <td>21.74</td>\n",
              "      <td>21.77</td>\n",
              "      <td>21.93</td>\n",
              "    </tr>\n",
              "  </tbody>\n",
              "</table>\n",
              "</div>"
            ],
            "text/plain": [
              "                     SMECO_RESID_AGG..RTLMP..Average  ...  AEPKY_RESID_AGG..RTLMP..Average\n",
              "dates                                                 ...                                 \n",
              "2018-01-28 01:00:00                            22.02  ...                            21.98\n",
              "2018-01-28 02:00:00                            21.68  ...                            21.66\n",
              "2018-01-28 03:00:00                            21.13  ...                            21.21\n",
              "2018-01-28 04:00:00                            21.22  ...                            21.39\n",
              "2018-01-28 05:00:00                            21.74  ...                            21.93\n",
              "\n",
              "[5 rows x 3 columns]"
            ]
          },
          "metadata": {
            "tags": []
          },
          "execution_count": 58
        }
      ]
    },
    {
      "cell_type": "code",
      "metadata": {
        "id": "sdj5V0igt0ew",
        "colab": {
          "base_uri": "https://localhost:8080/",
          "height": 226
        },
        "outputId": "6b33e951-3567-4183-ce1f-7f17a8974906"
      },
      "source": [
        "dam_prices = dam_prices.filter(items = columns_dam, axis = 1)\n",
        "dam_prices.head()\n"
      ],
      "execution_count": null,
      "outputs": [
        {
          "output_type": "execute_result",
          "data": {
            "text/html": [
              "<div>\n",
              "<style scoped>\n",
              "    .dataframe tbody tr th:only-of-type {\n",
              "        vertical-align: middle;\n",
              "    }\n",
              "\n",
              "    .dataframe tbody tr th {\n",
              "        vertical-align: top;\n",
              "    }\n",
              "\n",
              "    .dataframe thead th {\n",
              "        text-align: right;\n",
              "    }\n",
              "</style>\n",
              "<table border=\"1\" class=\"dataframe\">\n",
              "  <thead>\n",
              "    <tr style=\"text-align: right;\">\n",
              "      <th></th>\n",
              "      <th>SMECO_RESID_AGG..DALMP..Average</th>\n",
              "      <th>DOM_RESID_AGG..DALMP..Average</th>\n",
              "      <th>AEPKY_RESID_AGG..DALMP..Average</th>\n",
              "    </tr>\n",
              "    <tr>\n",
              "      <th>dates</th>\n",
              "      <th></th>\n",
              "      <th></th>\n",
              "      <th></th>\n",
              "    </tr>\n",
              "  </thead>\n",
              "  <tbody>\n",
              "    <tr>\n",
              "      <th>2018-01-28 01:00:00</th>\n",
              "      <td>23.49</td>\n",
              "      <td>23.33</td>\n",
              "      <td>22.60</td>\n",
              "    </tr>\n",
              "    <tr>\n",
              "      <th>2018-01-28 02:00:00</th>\n",
              "      <td>22.85</td>\n",
              "      <td>22.73</td>\n",
              "      <td>22.17</td>\n",
              "    </tr>\n",
              "    <tr>\n",
              "      <th>2018-01-28 03:00:00</th>\n",
              "      <td>22.27</td>\n",
              "      <td>22.24</td>\n",
              "      <td>21.74</td>\n",
              "    </tr>\n",
              "    <tr>\n",
              "      <th>2018-01-28 04:00:00</th>\n",
              "      <td>22.30</td>\n",
              "      <td>22.28</td>\n",
              "      <td>21.78</td>\n",
              "    </tr>\n",
              "    <tr>\n",
              "      <th>2018-01-28 05:00:00</th>\n",
              "      <td>22.44</td>\n",
              "      <td>22.43</td>\n",
              "      <td>21.95</td>\n",
              "    </tr>\n",
              "  </tbody>\n",
              "</table>\n",
              "</div>"
            ],
            "text/plain": [
              "                     SMECO_RESID_AGG..DALMP..Average  ...  AEPKY_RESID_AGG..DALMP..Average\n",
              "dates                                                 ...                                 \n",
              "2018-01-28 01:00:00                            23.49  ...                            22.60\n",
              "2018-01-28 02:00:00                            22.85  ...                            22.17\n",
              "2018-01-28 03:00:00                            22.27  ...                            21.74\n",
              "2018-01-28 04:00:00                            22.30  ...                            21.78\n",
              "2018-01-28 05:00:00                            22.44  ...                            21.95\n",
              "\n",
              "[5 rows x 3 columns]"
            ]
          },
          "metadata": {
            "tags": []
          },
          "execution_count": 59
        }
      ]
    },
    {
      "cell_type": "code",
      "metadata": {
        "id": "n75EiKQ_ujLx"
      },
      "source": [
        "dam_prices.to_csv(\"dam_prices.csv\")\n",
        "rt_prices.to_csv(\"rt_prices.csv\")"
      ],
      "execution_count": null,
      "outputs": []
    }
  ]
}